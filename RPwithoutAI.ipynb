{
 "cells": [
  {
   "cell_type": "markdown",
   "id": "751f4832",
   "metadata": {},
   "source": [
    "##### Assignment 2: Designing AI Solutions: Rapid Prototyping with and without Generative AI Tools"
   ]
  },
  {
   "cell_type": "markdown",
   "id": "07a8e74a",
   "metadata": {},
   "source": [
    "##### Importing the required libraries "
   ]
  },
  {
   "cell_type": "markdown",
   "id": "77ab1fd2",
   "metadata": {},
   "source": [
    "##### These are the required Python libraries for data analysis, visualization, and model building."
   ]
  },
  {
   "cell_type": "code",
   "execution_count": 1,
   "id": "3910f27f",
   "metadata": {},
   "outputs": [],
   "source": [
    "import pandas as pd\n",
    "import numpy as np\n",
    "import matplotlib.pyplot as plt\n",
    "import seaborn as sns\n",
    "\n",
    "from sklearn.model_selection import train_test_split\n",
    "from sklearn.preprocessing import OneHotEncoder\n",
    "from sklearn.compose import ColumnTransformer\n",
    "from sklearn.pipeline import Pipeline\n",
    "from sklearn.linear_model import LinearRegression\n",
    "from sklearn.ensemble import RandomForestRegressor\n",
    "from sklearn.metrics import mean_absolute_error, r2_score\n"
   ]
  }
 ],
 "metadata": {
  "kernelspec": {
   "display_name": "Python 3",
   "language": "python",
   "name": "python3"
  },
  "language_info": {
   "codemirror_mode": {
    "name": "ipython",
    "version": 3
   },
   "file_extension": ".py",
   "mimetype": "text/x-python",
   "name": "python",
   "nbconvert_exporter": "python",
   "pygments_lexer": "ipython3",
   "version": "3.11.9"
  }
 },
 "nbformat": 4,
 "nbformat_minor": 5
}
