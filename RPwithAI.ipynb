{
 "cells": [
  {
   "cell_type": "markdown",
   "id": "7a311780",
   "metadata": {},
   "source": [
    "##### Prototype — With Generative AI Tools"
   ]
  },
  {
   "cell_type": "markdown",
   "id": "97aa0d86",
   "metadata": {},
   "source": [
    "##### Importing the required libraries "
   ]
  },
  {
   "cell_type": "code",
   "execution_count": 1,
   "id": "2f0e5e5e",
   "metadata": {},
   "outputs": [],
   "source": [
    "# (Generated with ChatGPT prompt: \"Write the imports for a tabular ML regression pipeline with scikit-learn, XGBoost fallback, and visuals.\")\n",
    "import pandas as pd\n",
    "import numpy as np\n",
    "import matplotlib.pyplot as plt\n",
    "import seaborn as sns\n",
    "\n",
    "from sklearn.model_selection import train_test_split, GridSearchCV\n",
    "from sklearn.preprocessing import OneHotEncoder\n",
    "from sklearn.compose import ColumnTransformer\n",
    "from sklearn.pipeline import Pipeline\n",
    "from sklearn.metrics import mean_absolute_error, r2_score\n",
    "\n",
    "from sklearn.linear_model import LinearRegression\n",
    "from sklearn.ensemble import RandomForestRegressor\n",
    "\n",
    "# Optional: XGBoost (GenAI suggested trying a boosted tree)\n",
    "try:\n",
    "    from xgboost import XGBRegressor\n",
    "    HAS_XGB = True\n",
    "except Exception:\n",
    "    HAS_XGB = False\n"
   ]
  },
  {
   "cell_type": "markdown",
   "id": "8449c961",
   "metadata": {},
   "source": [
    "##### Loading the dataset and preprocessing the data (GenAI-drafted utilities)"
   ]
  },
  {
   "cell_type": "code",
   "execution_count": 3,
   "id": "be35effc",
   "metadata": {},
   "outputs": [
    {
     "name": "stderr",
     "output_type": "stream",
     "text": [
      "C:\\Users\\User\\AppData\\Local\\Temp\\ipykernel_4984\\640148119.py:7: UserWarning: Could not infer format, so each element will be parsed individually, falling back to `dateutil`. To ensure parsing is consistent and as-expected, please specify a format.\n",
      "  df[c] = pd.to_datetime(df[c], errors=\"coerce\")\n",
      "C:\\Users\\User\\AppData\\Local\\Temp\\ipykernel_4984\\640148119.py:7: UserWarning: Could not infer format, so each element will be parsed individually, falling back to `dateutil`. To ensure parsing is consistent and as-expected, please specify a format.\n",
      "  df[c] = pd.to_datetime(df[c], errors=\"coerce\")\n",
      "C:\\Users\\User\\AppData\\Local\\Temp\\ipykernel_4984\\640148119.py:7: UserWarning: Could not infer format, so each element will be parsed individually, falling back to `dateutil`. To ensure parsing is consistent and as-expected, please specify a format.\n",
      "  df[c] = pd.to_datetime(df[c], errors=\"coerce\")\n",
      "C:\\Users\\User\\AppData\\Local\\Temp\\ipykernel_4984\\640148119.py:7: UserWarning: Could not infer format, so each element will be parsed individually, falling back to `dateutil`. To ensure parsing is consistent and as-expected, please specify a format.\n",
      "  df[c] = pd.to_datetime(df[c], errors=\"coerce\")\n"
     ]
    },
    {
     "data": {
      "application/vnd.microsoft.datawrangler.viewer.v0+json": {
       "columns": [
        {
         "name": "index",
         "rawType": "int64",
         "type": "integer"
        },
        {
         "name": "Service",
         "rawType": "object",
         "type": "string"
        },
        {
         "name": "CPT Description",
         "rawType": "object",
         "type": "string"
        },
        {
         "name": "Booked Time (min)",
         "rawType": "int64",
         "type": "integer"
        },
        {
         "name": "OR Suite",
         "rawType": "int64",
         "type": "integer"
        },
        {
         "name": "Start Hour",
         "rawType": "int32",
         "type": "integer"
        },
        {
         "name": "Day of Week",
         "rawType": "object",
         "type": "string"
        },
        {
         "name": "Actual OR Duration (min)",
         "rawType": "float64",
         "type": "float"
        }
       ],
       "ref": "257a8686-ed40-4640-9727-3640293c2964",
       "rows": [
        [
         "0",
         "Podiatry",
         "Partial ostectomy, fifth metatarsal head",
         "90",
         "1",
         "7",
         "Monday",
         "93.0"
        ],
        [
         "1",
         "Podiatry",
         "Neurectomy, intrinsic musculature of foot",
         "60",
         "1",
         "10",
         "Monday",
         "48.0"
        ],
        [
         "2",
         "Podiatry",
         "Lapidus bunionectomy",
         "150",
         "1",
         "12",
         "Monday",
         "22.0"
        ],
        [
         "3",
         "Podiatry",
         "Bunionectomy with distal osteotomy",
         "120",
         "1",
         "13",
         "Monday",
         "57.0"
        ],
        [
         "4",
         "Orthopedics",
         "Arthroplasty, knee, hinge prothesis",
         "120",
         "2",
         "7",
         "Monday",
         "108.0"
        ]
       ],
       "shape": {
        "columns": 7,
        "rows": 5
       }
      },
      "text/html": [
       "<div>\n",
       "<style scoped>\n",
       "    .dataframe tbody tr th:only-of-type {\n",
       "        vertical-align: middle;\n",
       "    }\n",
       "\n",
       "    .dataframe tbody tr th {\n",
       "        vertical-align: top;\n",
       "    }\n",
       "\n",
       "    .dataframe thead th {\n",
       "        text-align: right;\n",
       "    }\n",
       "</style>\n",
       "<table border=\"1\" class=\"dataframe\">\n",
       "  <thead>\n",
       "    <tr style=\"text-align: right;\">\n",
       "      <th></th>\n",
       "      <th>Service</th>\n",
       "      <th>CPT Description</th>\n",
       "      <th>Booked Time (min)</th>\n",
       "      <th>OR Suite</th>\n",
       "      <th>Start Hour</th>\n",
       "      <th>Day of Week</th>\n",
       "      <th>Actual OR Duration (min)</th>\n",
       "    </tr>\n",
       "  </thead>\n",
       "  <tbody>\n",
       "    <tr>\n",
       "      <th>0</th>\n",
       "      <td>Podiatry</td>\n",
       "      <td>Partial ostectomy, fifth metatarsal head</td>\n",
       "      <td>90</td>\n",
       "      <td>1</td>\n",
       "      <td>7</td>\n",
       "      <td>Monday</td>\n",
       "      <td>93.0</td>\n",
       "    </tr>\n",
       "    <tr>\n",
       "      <th>1</th>\n",
       "      <td>Podiatry</td>\n",
       "      <td>Neurectomy, intrinsic musculature of foot</td>\n",
       "      <td>60</td>\n",
       "      <td>1</td>\n",
       "      <td>10</td>\n",
       "      <td>Monday</td>\n",
       "      <td>48.0</td>\n",
       "    </tr>\n",
       "    <tr>\n",
       "      <th>2</th>\n",
       "      <td>Podiatry</td>\n",
       "      <td>Lapidus bunionectomy</td>\n",
       "      <td>150</td>\n",
       "      <td>1</td>\n",
       "      <td>12</td>\n",
       "      <td>Monday</td>\n",
       "      <td>22.0</td>\n",
       "    </tr>\n",
       "    <tr>\n",
       "      <th>3</th>\n",
       "      <td>Podiatry</td>\n",
       "      <td>Bunionectomy with distal osteotomy</td>\n",
       "      <td>120</td>\n",
       "      <td>1</td>\n",
       "      <td>13</td>\n",
       "      <td>Monday</td>\n",
       "      <td>57.0</td>\n",
       "    </tr>\n",
       "    <tr>\n",
       "      <th>4</th>\n",
       "      <td>Orthopedics</td>\n",
       "      <td>Arthroplasty, knee, hinge prothesis</td>\n",
       "      <td>120</td>\n",
       "      <td>2</td>\n",
       "      <td>7</td>\n",
       "      <td>Monday</td>\n",
       "      <td>108.0</td>\n",
       "    </tr>\n",
       "  </tbody>\n",
       "</table>\n",
       "</div>"
      ],
      "text/plain": [
       "       Service                            CPT Description  Booked Time (min)  \\\n",
       "0     Podiatry   Partial ostectomy, fifth metatarsal head                 90   \n",
       "1     Podiatry  Neurectomy, intrinsic musculature of foot                 60   \n",
       "2     Podiatry                       Lapidus bunionectomy                150   \n",
       "3     Podiatry         Bunionectomy with distal osteotomy                120   \n",
       "4  Orthopedics        Arthroplasty, knee, hinge prothesis                120   \n",
       "\n",
       "   OR Suite  Start Hour Day of Week  Actual OR Duration (min)  \n",
       "0         1           7      Monday                      93.0  \n",
       "1         1          10      Monday                      48.0  \n",
       "2         1          12      Monday                      22.0  \n",
       "3         1          13      Monday                      57.0  \n",
       "4         2           7      Monday                     108.0  "
      ]
     },
     "execution_count": 3,
     "metadata": {},
     "output_type": "execute_result"
    }
   ],
   "source": [
    "# (Generated with ChatGPT prompt: \"Write a robust loader that parses datetime columns and engineers key OR features.\")\n",
    "def load_and_engineer(path: str) -> pd.DataFrame:\n",
    "    df = pd.read_csv(path)\n",
    "\n",
    "    # Parse datetimes\n",
    "    for c in [\"Start Time\", \"End Time\", \"Wheels In\", \"Wheels Out\"]:\n",
    "        df[c] = pd.to_datetime(df[c], errors=\"coerce\")\n",
    "\n",
    "    # Core features\n",
    "    df[\"Actual OR Duration (min)\"] = (df[\"End Time\"] - df[\"Start Time\"]).dt.total_seconds() / 60\n",
    "    df[\"Setup Duration (min)\"]     = (df[\"Start Time\"] - df[\"Wheels In\"]).dt.total_seconds() / 60\n",
    "    df[\"Room Occupancy (min)\"]     = (df[\"Wheels Out\"] - df[\"Wheels In\"]).dt.total_seconds() / 60\n",
    "    df[\"Start Hour\"]               = df[\"Start Time\"].dt.hour\n",
    "    df[\"Day of Week\"]              = df[\"Start Time\"].dt.day_name()\n",
    "\n",
    "    # Minimal cleaning for the prototype\n",
    "    keep = [\"Service\", \"CPT Description\", \"Booked Time (min)\", \"OR Suite\",\n",
    "            \"Start Hour\", \"Day of Week\", \"Actual OR Duration (min)\"]\n",
    "    df = df[keep].dropna()\n",
    "    df = df[df[\"Actual OR Duration (min)\"] > 0]\n",
    "\n",
    "    return df\n",
    "\n",
    "df_ai = load_and_engineer(\"data/2022_Q1_OR_Utilization.csv\")\n",
    "df_ai.head()\n"
   ]
  },
  {
   "cell_type": "markdown",
   "id": "af9ea6b2",
   "metadata": {},
   "source": [
    "##### Lightweight Data Augmentation for Rare Procedures\n",
    "\n",
    "##### When some CPT Description categories are rare, GenAI suggested synthesizing a few near-neighbors around category means to stabilize training.\n",
    "##### This does not fabricate new patterns—it creates small, jittered copies only for under-represented CPTs."
   ]
  },
  {
   "cell_type": "code",
   "execution_count": 4,
   "id": "0a8f02f5",
   "metadata": {},
   "outputs": [],
   "source": [
    "# (Generated with ChatGPT prompt: \"Create a tiny augmentation function for rare categories by jittering numeric features ±5%.\")\n",
    "def augment_rare_cpt(df: pd.DataFrame, min_count: int = 10, jitter: float = 0.05, max_dup: int = 3) -> pd.DataFrame:\n",
    "    df = df.copy()\n",
    "    counts = df[\"CPT Description\"].value_counts()\n",
    "    rare = counts[counts < min_count].index\n",
    "\n",
    "    augmented_rows = []\n",
    "    for cpt in rare:\n",
    "        block = df[df[\"CPT Description\"] == cpt]\n",
    "        if block.empty:\n",
    "            continue\n",
    "        n_dup = min(max_dup, max(0, min_count - len(block)))\n",
    "        for _ in range(n_dup):\n",
    "            jittered = block.sample(1, replace=True).copy()\n",
    "            for col in [\"Booked Time (min)\", \"Start Hour\"]:\n",
    "                base = jittered[col].values[0]\n",
    "                jittered[col] = base * (1 + np.random.uniform(-jitter, jitter))\n",
    "            augmented_rows.append(jittered)\n",
    "\n",
    "    if augmented_rows:\n",
    "        df_aug = pd.concat([df] + augmented_rows, ignore_index=True)\n",
    "        return df_aug\n",
    "    return df\n",
    "\n",
    "# Toggle ON if your CPTs are highly imbalanced\n",
    "USE_AUG = False\n",
    "df_trainable = augment_rare_cpt(df_ai) if USE_AUG else df_ai.copy()\n"
   ]
  },
  {
   "cell_type": "markdown",
   "id": "df72aeba",
   "metadata": {},
   "source": [
    "##### Features, Encoders, and Train/Test Split (GenAI-assisted)"
   ]
  },
  {
   "cell_type": "code",
   "execution_count": 5,
   "id": "0c220f42",
   "metadata": {},
   "outputs": [
    {
     "data": {
      "text/plain": [
       "(1737, 435)"
      ]
     },
     "execution_count": 5,
     "metadata": {},
     "output_type": "execute_result"
    }
   ],
   "source": [
    "# (Generated with ChatGPT prompt: \"Define features/target and a ColumnTransformer for one-hot encoding.\")\n",
    "features = [\"Service\", \"CPT Description\", \"Booked Time (min)\", \"OR Suite\", \"Start Hour\", \"Day of Week\"]\n",
    "target   = \"Actual OR Duration (min)\"\n",
    "\n",
    "X = df_trainable[features].copy()\n",
    "y = df_trainable[target].copy()\n",
    "\n",
    "categorical = [\"Service\", \"CPT Description\", \"Day of Week\"]\n",
    "numeric     = [\"Booked Time (min)\", \"OR Suite\", \"Start Hour\"]\n",
    "\n",
    "pre = ColumnTransformer(\n",
    "    transformers=[(\"cat\", OneHotEncoder(handle_unknown=\"ignore\"), categorical)],\n",
    "    remainder=\"passthrough\"\n",
    ")\n",
    "\n",
    "X_train, X_test, y_train, y_test = train_test_split(X, y, test_size=0.2, random_state=42)\n",
    "len(X_train), len(X_test)\n"
   ]
  },
  {
   "cell_type": "markdown",
   "id": "08121dc2",
   "metadata": {},
   "source": [
    "##### Model Set (including GenAI suggestion: XGBoost) + Hyperparameter Templates"
   ]
  },
  {
   "cell_type": "code",
   "execution_count": 6,
   "id": "f756afeb",
   "metadata": {},
   "outputs": [
    {
     "name": "stdout",
     "output_type": "stream",
     "text": [
      "LinearRegression MAE:   3.82 min | R²:  0.95\n",
      "RandomForest     MAE:   0.05 min | R²:  1.00\n"
     ]
    }
   ],
   "source": [
    "# (Generated with Copilot/ChatGPT: \"Create 2-3 regressors and a GridSearchCV template for the boosted model.\")\n",
    "\n",
    "models = {\n",
    "    \"LinearRegression\": Pipeline([(\"pre\", pre), (\"m\", LinearRegression())]),\n",
    "    \"RandomForest\": Pipeline([(\"pre\", pre), (\"m\", RandomForestRegressor(n_estimators=300, random_state=42))]),\n",
    "}\n",
    "\n",
    "if HAS_XGB:\n",
    "    models[\"XGBRegressor\"] = Pipeline([\n",
    "        (\"pre\", pre),\n",
    "        (\"m\", XGBRegressor(\n",
    "            n_estimators=600, max_depth=6, learning_rate=0.07, subsample=0.9, colsample_bytree=0.9,\n",
    "            reg_alpha=0.0, reg_lambda=1.0, objective=\"reg:squarederror\", random_state=42\n",
    "        ))\n",
    "    ])\n",
    "\n",
    "def evaluate(pipe, name):\n",
    "    pipe.fit(X_train, y_train)\n",
    "    pred = pipe.predict(X_test)\n",
    "    mae = mean_absolute_error(y_test, pred)\n",
    "    r2  = r2_score(y_test, pred)\n",
    "    print(f\"{name:<16} MAE: {mae:6.2f} min | R²: {r2:5.2f}\")\n",
    "    return pred, mae, r2\n",
    "\n",
    "results = {}\n",
    "for name, pipe in models.items():\n",
    "    pred, mae, r2 = evaluate(pipe, name)\n",
    "    results[name] = {\"pred\": pred, \"mae\": mae, \"r2\": r2}\n"
   ]
  }
 ],
 "metadata": {
  "kernelspec": {
   "display_name": "Python 3",
   "language": "python",
   "name": "python3"
  },
  "language_info": {
   "codemirror_mode": {
    "name": "ipython",
    "version": 3
   },
   "file_extension": ".py",
   "mimetype": "text/x-python",
   "name": "python",
   "nbconvert_exporter": "python",
   "pygments_lexer": "ipython3",
   "version": "3.11.9"
  }
 },
 "nbformat": 4,
 "nbformat_minor": 5
}
