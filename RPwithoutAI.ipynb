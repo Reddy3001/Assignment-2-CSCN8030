{
 "cells": [
  {
   "cell_type": "markdown",
   "id": "751f4832",
   "metadata": {},
   "source": [
    "##### Assignment 2: Designing AI Solutions: Rapid Prototyping with and without Generative AI Tools"
   ]
  },
  {
   "cell_type": "markdown",
   "id": "07a8e74a",
   "metadata": {},
   "source": [
    "##### Importing the required libraries "
   ]
  },
  {
   "cell_type": "markdown",
   "id": "77ab1fd2",
   "metadata": {},
   "source": [
    "##### These are the required Python libraries for data analysis, visualization, and model building."
   ]
  },
  {
   "cell_type": "code",
   "execution_count": 1,
   "id": "3910f27f",
   "metadata": {},
   "outputs": [],
   "source": [
    "import pandas as pd\n",
    "import numpy as np\n",
    "import matplotlib.pyplot as plt\n",
    "import seaborn as sns\n",
    "\n",
    "from sklearn.model_selection import train_test_split\n",
    "from sklearn.preprocessing import OneHotEncoder\n",
    "from sklearn.compose import ColumnTransformer\n",
    "from sklearn.pipeline import Pipeline\n",
    "from sklearn.linear_model import LinearRegression\n",
    "from sklearn.ensemble import RandomForestRegressor\n",
    "from sklearn.metrics import mean_absolute_error, r2_score\n"
   ]
  },
  {
   "cell_type": "markdown",
   "id": "faef0b8d",
   "metadata": {},
   "source": [
    "##### Loding the Dataset"
   ]
  },
  {
   "cell_type": "markdown",
   "id": "1fc18cd6",
   "metadata": {},
   "source": [
    "##### Load the Operating Room Utilization dataset and inspect its structure and columns."
   ]
  },
  {
   "cell_type": "code",
   "execution_count": 2,
   "id": "370897c4",
   "metadata": {},
   "outputs": [
    {
     "name": "stdout",
     "output_type": "stream",
     "text": [
      "Dataset Loaded Successfully\n",
      "   index  Encounter ID      Date  OR Suite      Service  CPT Code  \\\n",
      "0      0         10001  01/03/22         1     Podiatry     28110   \n",
      "1      1         10002  01/03/22         1     Podiatry     28055   \n",
      "2      2         10003  01/03/22         1     Podiatry     28297   \n",
      "3      3         10004  01/03/22         1     Podiatry     28296   \n",
      "4      4         10005  01/03/22         2  Orthopedics     27445   \n",
      "\n",
      "                             CPT Description  Booked Time (min)  \\\n",
      "0   Partial ostectomy, fifth metatarsal head                 90   \n",
      "1  Neurectomy, intrinsic musculature of foot                 60   \n",
      "2                       Lapidus bunionectomy                150   \n",
      "3         Bunionectomy with distal osteotomy                120   \n",
      "4        Arthroplasty, knee, hinge prothesis                120   \n",
      "\n",
      "         OR Schedule          Wheels In         Start Time           End Time  \\\n",
      "0  01/03/22 07:00 AM  01/03/22 07:05 AM  01/03/22 07:32 AM  01/03/22 09:05 AM   \n",
      "1  01/03/22 08:45 AM  01/03/22 09:48 AM  01/03/22 10:13 AM  01/03/22 11:01 AM   \n",
      "2  01/03/22 10:00 AM  01/03/22 11:50 AM  01/03/22 12:20 PM  01/03/22 12:42 PM   \n",
      "3  01/03/22 12:45 PM  01/03/22 01:29 PM  01/03/22 01:53 PM  01/03/22 02:50 PM   \n",
      "4  01/03/22 07:00 AM  01/03/22 07:15 AM  01/03/22 07:50 AM  01/03/22 09:38 AM   \n",
      "\n",
      "          Wheels Out  \n",
      "0  01/03/22 09:17 AM  \n",
      "1  01/03/22 11:12 AM  \n",
      "2  01/03/22 12:58 PM  \n",
      "3  01/03/22 03:02 PM  \n",
      "4  01/03/22 09:51 AM  \n",
      "\n",
      "Columns: ['index', 'Encounter ID', 'Date', 'OR Suite', 'Service', 'CPT Code', 'CPT Description', 'Booked Time (min)', 'OR Schedule', 'Wheels In', 'Start Time', 'End Time', 'Wheels Out']\n"
     ]
    }
   ],
   "source": [
    "file_path = \"data/2022_Q1_OR_Utilization.csv\"  # Adjust path if needed\n",
    "df = pd.read_csv(file_path)\n",
    "\n",
    "print(\"Dataset Loaded Successfully\")\n",
    "print(df.head())\n",
    "print(\"\\nColumns:\", df.columns.tolist())\n"
   ]
  },
  {
   "cell_type": "markdown",
   "id": "f3cfe09e",
   "metadata": {},
   "source": [
    "##### Data Preprocessing"
   ]
  },
  {
   "cell_type": "markdown",
   "id": "ad8c4308",
   "metadata": {},
   "source": [
    "###### Clean and prepare the dataset:\n",
    "\n",
    "###### Convert time columns to datetime\n",
    "\n",
    "###### Create duration-based features\n",
    "\n",
    "###### Extract useful time info (like start hour, day of week)\n",
    "\n",
    "###### Remove missing and invalid records"
   ]
  },
  {
   "cell_type": "code",
   "execution_count": 3,
   "id": "9ee64147",
   "metadata": {},
   "outputs": [
    {
     "name": "stderr",
     "output_type": "stream",
     "text": [
      "C:\\Users\\User\\AppData\\Local\\Temp\\ipykernel_23412\\3094064281.py:3: UserWarning: Could not infer format, so each element will be parsed individually, falling back to `dateutil`. To ensure parsing is consistent and as-expected, please specify a format.\n",
      "  df[col] = pd.to_datetime(df[col], errors='coerce')\n",
      "C:\\Users\\User\\AppData\\Local\\Temp\\ipykernel_23412\\3094064281.py:3: UserWarning: Could not infer format, so each element will be parsed individually, falling back to `dateutil`. To ensure parsing is consistent and as-expected, please specify a format.\n",
      "  df[col] = pd.to_datetime(df[col], errors='coerce')\n",
      "C:\\Users\\User\\AppData\\Local\\Temp\\ipykernel_23412\\3094064281.py:3: UserWarning: Could not infer format, so each element will be parsed individually, falling back to `dateutil`. To ensure parsing is consistent and as-expected, please specify a format.\n",
      "  df[col] = pd.to_datetime(df[col], errors='coerce')\n",
      "C:\\Users\\User\\AppData\\Local\\Temp\\ipykernel_23412\\3094064281.py:3: UserWarning: Could not infer format, so each element will be parsed individually, falling back to `dateutil`. To ensure parsing is consistent and as-expected, please specify a format.\n",
      "  df[col] = pd.to_datetime(df[col], errors='coerce')\n"
     ]
    },
    {
     "name": "stdout",
     "output_type": "stream",
     "text": [
      "\n",
      " Data Preprocessed Successfully\n",
      "       Service  Booked Time (min)  Actual OR Duration (min)\n",
      "0     Podiatry                 90                      93.0\n",
      "1     Podiatry                 60                      48.0\n",
      "2     Podiatry                150                      22.0\n",
      "3     Podiatry                120                      57.0\n",
      "4  Orthopedics                120                     108.0\n"
     ]
    }
   ],
   "source": [
    "time_cols = ['Start Time', 'End Time', 'Wheels In', 'Wheels Out']\n",
    "for col in time_cols:\n",
    "    df[col] = pd.to_datetime(df[col], errors='coerce')\n",
    "\n",
    "df['Actual OR Duration (min)'] = (df['End Time'] - df['Start Time']).dt.total_seconds() / 60\n",
    "df['Setup Duration (min)'] = (df['Start Time'] - df['Wheels In']).dt.total_seconds() / 60\n",
    "df['Room Occupancy (min)'] = (df['Wheels Out'] - df['Wheels In']).dt.total_seconds() / 60\n",
    "df['Start Hour'] = df['Start Time'].dt.hour\n",
    "df['Day of Week'] = df['Start Time'].dt.day_name()\n",
    "\n",
    "df = df.dropna(subset=['Actual OR Duration (min)', 'Booked Time (min)', 'Service', 'CPT Description', 'OR Suite'])\n",
    "df = df[df['Actual OR Duration (min)'] > 0]\n",
    "\n",
    "print(\"\\n Data Preprocessed Successfully\")\n",
    "print(df[['Service', 'Booked Time (min)', 'Actual OR Duration (min)']].head())\n"
   ]
  },
  {
   "cell_type": "markdown",
   "id": "a7a34bcd",
   "metadata": {},
   "source": [
    "##### Feature Selection"
   ]
  },
  {
   "cell_type": "markdown",
   "id": "3f3296c3",
   "metadata": {},
   "source": [
    "##### Select input features (X) and the target variable (y) for model training."
   ]
  },
  {
   "cell_type": "code",
   "execution_count": 4,
   "id": "9bba8d17",
   "metadata": {},
   "outputs": [],
   "source": [
    "features = ['Service', 'CPT Description', 'Booked Time (min)', 'OR Suite', 'Start Hour', 'Day of Week']\n",
    "target = 'Actual OR Duration (min)'\n",
    "\n",
    "X = df[features]\n",
    "y = df[target]\n"
   ]
  }
 ],
 "metadata": {
  "kernelspec": {
   "display_name": "Python 3",
   "language": "python",
   "name": "python3"
  },
  "language_info": {
   "codemirror_mode": {
    "name": "ipython",
    "version": 3
   },
   "file_extension": ".py",
   "mimetype": "text/x-python",
   "name": "python",
   "nbconvert_exporter": "python",
   "pygments_lexer": "ipython3",
   "version": "3.11.9"
  }
 },
 "nbformat": 4,
 "nbformat_minor": 5
}
